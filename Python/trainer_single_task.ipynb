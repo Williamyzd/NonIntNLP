{
 "cells": [
  {
   "cell_type": "code",
   "execution_count": 1,
   "metadata": {
    "pycharm": {
     "is_executing": true
    }
   },
   "outputs": [],
   "source": [
    "import gc\n",
    "import tensorflow as tf\n",
    "import tensorflow_datasets\n",
    "import numpy as np\n",
    "import tensorflow.keras as keras\n",
    "import orjson\n",
    "import tensorflow.keras.backend as K\n",
    "from tensorflow.keras.layers import Dense, Input\n",
    "from utils import downconvert_tf_dataset\n",
    "import wandb\n",
    "from wandb.keras import WandbCallback\n",
    "\n",
    "from transformers import (TFBertModel, TFDistilBertModel,\n",
    "                          BertTokenizer, DistilBertTokenizer,\n",
    "                          glue_convert_examples_to_features)\n",
    "\n",
    "# FP16 settings\n",
    "fp16 = False\n",
    "if fp16:\n",
    "    tf.config.optimizer.set_experimental_options({\"auto_mixed_precision\": True})"
   ]
  },
  {
   "cell_type": "code",
   "execution_count": 2,
   "metadata": {
    "pycharm": {
     "is_executing": true
    }
   },
   "outputs": [],
   "source": [
    "def split_inputs_and_outputs(data_map):\n",
    "    return [np.asarray(data_map['input_id']),\n",
    "           np.asarray(data_map['attention_mask']),\n",
    "           np.asarray(data_map['token_type_id'])], np.asarray(data_map['label'])\n",
    "\n",
    "def split_inputs_and_outputs_distil(data_map):\n",
    "    return [np.asarray(data_map['input_id']),\n",
    "           np.asarray(data_map['attention_mask'])], np.asarray(data_map['label'])\n",
    "\n",
    "def load_data(train_filename, val_filename):\n",
    "    training_data = orjson.loads(open(train_filename, \"rb\").read())\n",
    "    #train_x, train_y = split_inputs_and_outputs(training_data)\n",
    "    train_x, train_y = split_inputs_and_outputs_distil(training_data)\n",
    "    val_data = orjson.loads(open(val_filename, \"rb\").read())\n",
    "    val_x, val_y = split_inputs_and_outputs(val_data)\n",
    "    return train_x, train_y, val_x, val_y\n",
    "\n",
    "# Load data.\n",
    "train_dataset_path = \"C:/Users/jbetk/Documents/data/ml/sentiment_analysis/outputs/processed.json\"\n",
    "val_dataset_path = \"C:/Users/jbetk/Documents/data/ml/sentiment_analysis/outputs/validation.json\"\n",
    "train_x, train_y, val_x, val_y = load_data(train_dataset_path, val_dataset_path)"
   ]
  },
  {
   "cell_type": "code",
   "execution_count": 3,
   "metadata": {
    "pycharm": {
     "is_executing": true
    }
   },
   "outputs": [],
   "source": [
    "def create_new_classification_head(base_model_cls_head, dense_config=[256,2], final_activation=\"softmax\"):   \n",
    "    # Create the head.\n",
    "    tensor = base_model_cls_head\n",
    "    for layer_units in dense_config[0:-1]:\n",
    "        tensor = Dense(units=layer_units, activation=\"relu\")(tensor)\n",
    "    tensor = Dense(units=dense_config[-1], activation=final_activation, name=\"final_linear\")(tensor)\n",
    "    \n",
    "    return tensor\n",
    "\n",
    "def fine_tune_task(optimizer):\n",
    "    \n",
    "    # Re-load base model weights.\n",
    "    bert_base_model = TFDistilBertModel.from_pretrained(\"distilbert-base-uncased\")\n",
    "    #bert_base_model = TFBertModel.from_pretrained(\"bert-base-cased\")\n",
    "\n",
    "    inputs = [Input(shape=(128,), dtype='int32', name='input_ids'),\n",
    "              Input(shape=(128,), dtype='int32', name='attention_mask'), \n",
    "              #Input(shape=(128,), dtype='int32', name='token_type_ids'),\n",
    "             ]\n",
    "\n",
    "    # Fetch the CLS head of the BERT model; index 1.\n",
    "    #cls_head = bert_base_model(inputs)[1]\n",
    "    # Classification head for DistilBERT is the flattened hidden state.\n",
    "    cls_head = keras.layers.Flatten()(bert_base_model(inputs)[0])\n",
    "    \n",
    "    tensor = create_new_classification_head(cls_head, dense_config=[1], final_activation=\"linear\")\n",
    "    model = keras.Model(inputs=inputs, outputs=tensor)\n",
    "    print(model.summary())\n",
    "\n",
    "    # Configure loss function and metrics.\n",
    "    if fp16:\n",
    "        tf.train.experimental.enable_mixed_precision_graph_rewrite(optimizer)\n",
    "    #loss = tf.keras.losses.SparseCategoricalCrossentropy(from_logits=True)\n",
    "    loss = tf.keras.losses.MeanSquaredError()\n",
    "    metric = tf.keras.metrics.SparseCategoricalAccuracy('accuracy')\n",
    "\n",
    "    model.compile(optimizer=optimizer, loss=loss, metrics=[metric])\n",
    "    \n",
    "    return model"
   ]
  },
  {
   "cell_type": "code",
   "execution_count": 4,
   "metadata": {
    "pycharm": {
     "is_executing": true,
     "name": "#%%\n"
    },
    "scrolled": true
   },
   "outputs": [
    {
     "name": "stdout",
     "output_type": "stream",
     "text": [
      "Model: \"model\"\n",
      "__________________________________________________________________________________________________\n",
      "Layer (type)                    Output Shape         Param #     Connected to                     \n",
      "==================================================================================================\n",
      "input_ids (InputLayer)          [(None, 128)]        0                                            \n",
      "__________________________________________________________________________________________________\n",
      "attention_mask (InputLayer)     [(None, 128)]        0                                            \n",
      "__________________________________________________________________________________________________\n",
      "tf_distil_bert_model (TFDistilB ((None, 128, 768),)  66362880    input_ids[0][0]                  \n",
      "                                                                 attention_mask[0][0]             \n",
      "__________________________________________________________________________________________________\n",
      "flatten (Flatten)               (None, 98304)        0           tf_distil_bert_model[0][0]       \n",
      "__________________________________________________________________________________________________\n",
      "final_linear (Dense)            (None, 1)            98305       flatten[0][0]                    \n",
      "==================================================================================================\n",
      "Total params: 66,461,185\n",
      "Trainable params: 66,461,185\n",
      "Non-trainable params: 0\n",
      "__________________________________________________________________________________________________\n",
      "None\n"
     ]
    },
    {
     "data": {
      "text/html": [
       "\n",
       "                Logging results to <a href=\"https://wandb.com\" target=\"_blank\">Weights & Biases</a> <a href=\"https://docs.wandb.com/integrations/jupyter.html\" target=\"_blank\">(Documentation)</a>.<br/>\n",
       "                Project page: <a href=\"https://app.wandb.ai/neonbjb/nonint-transformers\" target=\"_blank\">https://app.wandb.ai/neonbjb/nonint-transformers</a><br/>\n",
       "                Run page: <a href=\"https://app.wandb.ai/neonbjb/nonint-transformers/runs/oje9lms7\" target=\"_blank\">https://app.wandb.ai/neonbjb/nonint-transformers/runs/oje9lms7</a><br/>\n",
       "            "
      ],
      "text/plain": [
       "<IPython.core.display.HTML object>"
      ]
     },
     "metadata": {},
     "output_type": "display_data"
    },
    {
     "data": {
      "text/plain": [
       "W&B Run: https://app.wandb.ai/neonbjb/nonint-transformers/runs/oje9lms7"
      ]
     },
     "execution_count": 4,
     "metadata": {},
     "output_type": "execute_result"
    }
   ],
   "source": [
    "tokenizer = DistilBertTokenizer.from_pretrained(\"distilbert-base-uncased\")\n",
    "#tokenizer = BertTokenizer.from_pretrained(\"bert-base-cased\")\n",
    "optimizer = tf.keras.optimizers.Adam(learning_rate=1e-5, epsilon=1e-08)\n",
    "\n",
    "batch_sz = 32\n",
    "epochs = 2\n",
    "\n",
    "# Todo - configure optimizer in mixed precision mode.\n",
    "model = fine_tune_task(optimizer)\n",
    "\n",
    "# Train model.\n",
    "wandb.init(project=\"nonint-transformers\",\\\n",
    "           name=\"amazon_reviews_sentiment_first_pass\",\\\n",
    "           config={\"dataset\": \"amazon_yelp_dataset\", \"learning_rate\": 1e-5, \"epsilon\": 1e-08, \"batch_sz\": batch_sz})"
   ]
  },
  {
   "cell_type": "code",
   "execution_count": null,
   "metadata": {},
   "outputs": [
    {
     "name": "stdout",
     "output_type": "stream",
     "text": [
      "Train on 2625860 samples, validate on 4000 samples\n",
      "Epoch 1/2\n",
      "2625856/2625860 [============================>.] - ETA: 0s - loss: 1.1052 - accuracy: 0.0000e+00"
     ]
    },
    {
     "name": "stderr",
     "output_type": "stream",
     "text": [
      "wandb: ERROR Can't save model, h5py returned error: \n"
     ]
    },
    {
     "name": "stdout",
     "output_type": "stream",
     "text": [
      "2625860/2625860 [==============================] - 15060s 6ms/sample - loss: 1.1052 - accuracy: 0.0000e+00 - val_loss: 0.9724 - val_accuracy: 0.0000e+00\n",
      "Epoch 2/2\n",
      " 839104/2625860 [========>.....................] - ETA: 2:49:09 - loss: 1.1185 - accuracy: 0.0000e+00- ETA: 2:49:09 - loss: 1.1185 - accuracy: 0.0000e"
     ]
    }
   ],
   "source": [
    "history = model.fit(train_x, train_y, batch_size=batch_sz, epochs=epochs, \\\n",
    "                                      validation_data=(val_x, val_y),\\\n",
    "                                      callbacks=[WandbCallback(log_batch_frequency=int(1024/batch_sz))])"
   ]
  },
  {
   "cell_type": "code",
   "execution_count": 6,
   "metadata": {
    "pycharm": {
     "is_executing": true,
     "name": "#%%\n"
    }
   },
   "outputs": [
    {
     "name": "stdout",
     "output_type": "stream",
     "text": [
      "This product ruined my day. Not figuratively, I stuck my fingers together and couldn't get them apart! I would never recommend this to anyone! Luckily I could return it.. [1.6857811]\n",
      "This product has been the standard for woodworking pros for decades. Before the 800lb gorilla swaggered into the room, taking the market by storm and strong-arming his way to happily humming registers all over the country, Titebond was THE glue to beat. [2.3921506]\n",
      "good glue, but had hardened glue stuck in the spout and is clogged have to unscrew and use a popsicle stick to use, i will try and use isopropyl to dissolve it so i can use the spout, kinda annoying [1.1922858]\n",
      "Strong as can be, but stain will discolor. Make sure you wipe it off completely before it dries. [1.5189675]\n",
      "Did not use this glue immediately. About 4 weeks later, I could not get any glue to squeeze out thru the dispenser tip. I removed the cap and discovered lumps in the glue. [1.8800578]\n"
     ]
    }
   ],
   "source": [
    "phrases = [\n",
    "    \"This product ruined my day. Not figuratively, I stuck my fingers together and couldn't get them apart! I would never recommend this to anyone! Luckily I could return it..\",\n",
    "    # 5 star:\n",
    "    \"This product has been the standard for woodworking pros for decades. Before the 800lb gorilla swaggered into the room, taking the market by storm and strong-arming his way to happily humming registers all over the country, Titebond was THE glue to beat.\",\n",
    "    # 4 star:\n",
    "    \"good glue, but had hardened glue stuck in the spout and is clogged have to unscrew and use a popsicle stick to use, i will try and use isopropyl to dissolve it so i can use the spout, kinda annoying\",\n",
    "    # 3 star:\n",
    "    \"Strong as can be, but stain will discolor. Make sure you wipe it off completely before it dries.\",\n",
    "    # 2 star:\n",
    "    \"Did not use this glue immediately. About 4 weeks later, I could not get any glue to squeeze out thru the dispenser tip. I removed the cap and discovered lumps in the glue.\",\n",
    "]\n",
    "\n",
    "def pad_zero(inputs, seq_len):\n",
    "    for k in inputs: \n",
    "        output = np.zeros(seq_len, dtype='int32')\n",
    "        output[:len(inputs[k])] = np.asarray(inputs[k])\n",
    "        inputs[k] = output\n",
    "    return inputs\n",
    "\n",
    "phrases_encoded = [[], [], []]\n",
    "for phrase in phrases:\n",
    "    enc = pad_zero(tokenizer.encode_plus(phrase, add_special_tokens=True, max_length=128), 128)\n",
    "    for (i,k) in enumerate(enc.keys()):\n",
    "        phrases_encoded[i].append(enc[k])\n",
    "\n",
    "inputs = []\n",
    "for e in phrases_encoded:\n",
    "    inputs.append(np.asarray(e))\n",
    "    \n",
    "results = model.predict(inputs)\n",
    "\n",
    "for p,r in zip(phrases, results):\n",
    "    print(p, r)"
   ]
  },
  {
   "cell_type": "code",
   "execution_count": 7,
   "metadata": {
    "pycharm": {
     "is_executing": true
    }
   },
   "outputs": [
    {
     "name": "stdout",
     "output_type": "stream",
     "text": [
      "WARNING:tensorflow:Skipping full serialization of Keras layer <tensorflow.python.keras.layers.core.Dropout object at 0x000001477FF313C8>, because it is not built.\n",
      "WARNING:tensorflow:Skipping full serialization of Keras layer <tensorflow.python.keras.layers.core.Dropout object at 0x00000148213B10F0>, because it is not built.\n",
      "WARNING:tensorflow:Skipping full serialization of Keras layer <tensorflow.python.keras.layers.core.Dropout object at 0x0000014A49B24BA8>, because it is not built.\n",
      "WARNING:tensorflow:Skipping full serialization of Keras layer <tensorflow.python.keras.layers.core.Dropout object at 0x0000014821B1C748>, because it is not built.\n",
      "WARNING:tensorflow:Skipping full serialization of Keras layer <tensorflow.python.keras.layers.core.Dropout object at 0x0000014821B332E8>, because it is not built.\n",
      "WARNING:tensorflow:Skipping full serialization of Keras layer <tensorflow.python.keras.layers.core.Dropout object at 0x00000148218C0E48>, because it is not built.\n",
      "WARNING:tensorflow:From c:\\drive\\projects\\ml-notebooks\\pycharm-venv\\lib\\site-packages\\tensorflow_core\\python\\ops\\resource_variable_ops.py:1781: calling BaseResourceVariable.__init__ (from tensorflow.python.ops.resource_variable_ops) with constraint is deprecated and will be removed in a future version.\n",
      "Instructions for updating:\n",
      "If using Keras pass *_constraint arguments to layers.\n",
      "INFO:tensorflow:Assets written to: saved/assets\n"
     ]
    }
   ],
   "source": [
    "tf.saved_model.save(model,\"saved/\")"
   ]
  },
  {
   "cell_type": "code",
   "execution_count": null,
   "metadata": {
    "pycharm": {
     "is_executing": true
    }
   },
   "outputs": [],
   "source": []
  }
 ],
 "metadata": {
  "kernelspec": {
   "display_name": "Python 3",
   "language": "python",
   "name": "python3"
  },
  "pycharm": {
   "stem_cell": {
    "cell_type": "raw",
    "metadata": {
     "collapsed": false
    },
    "source": []
   }
  }
 },
 "nbformat": 4,
 "nbformat_minor": 1
}
