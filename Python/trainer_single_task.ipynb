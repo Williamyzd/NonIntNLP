{
 "cells": [
  {
   "cell_type": "code",
   "execution_count": 1,
   "metadata": {
    "pycharm": {
     "is_executing": false
    }
   },
   "outputs": [],
   "source": [
    "import gc\n",
    "import tensorflow as tf\n",
    "import tensorflow_datasets\n",
    "import numpy as np\n",
    "import tensorflow.keras as keras\n",
    "import tensorflow.keras.backend as K\n",
    "from tensorflow.keras.layers import Dense, Input\n",
    "from utils import downconvert_tf_dataset\n",
    "import wandb\n",
    "from wandb.keras import WandbCallback\n",
    "\n",
    "from transformers import (TFBertModel, \n",
    "                          BertTokenizer,\n",
    "                          glue_convert_examples_to_features)"
   ]
  },
  {
   "cell_type": "code",
   "execution_count": 2,
   "metadata": {
    "pycharm": {
     "is_executing": false,
     "name": "#%%\n"
    }
   },
   "outputs": [],
   "source": [
    "# Constants\n",
    "BATCH_SIZE = 32\n",
    "MAX_SEQ_LEN = 128\n",
    "EPOCHS = 3\n",
    "\n",
    "# FP16 settings\n",
    "fp16 = True\n",
    "if fp16:\n",
    "    tf.config.optimizer.set_experimental_options({\"auto_mixed_precision\": True})\n",
    "    BATCH_SIZE = 48"
   ]
  },
  {
   "cell_type": "code",
   "execution_count": 3,
   "metadata": {
    "pycharm": {
     "is_executing": false,
     "name": "#%%\n"
    }
   },
   "outputs": [],
   "source": [
    "# Fetch pre-trained models\n",
    "tokenizer = BertTokenizer.from_pretrained(\"bert-base-cased\")"
   ]
  },
  {
   "cell_type": "code",
   "execution_count": 4,
   "metadata": {
    "pycharm": {
     "is_executing": false
    }
   },
   "outputs": [],
   "source": [
    "dataset_cache = {}\n",
    "\n",
    "def create_new_classification_head(dataset_name, base_model_cls_head, dense_config=[256,2]):\n",
    "    # Fetch the data.\n",
    "    if(dataset_name in dataset_cache.keys()):\n",
    "        train_x = dataset_cache[dataset_name][\"tx\"]\n",
    "        train_y = dataset_cache[dataset_name][\"ty\"]\n",
    "        val_x = dataset_cache[dataset_name][\"vx\"]\n",
    "        val_y = dataset_cache[dataset_name][\"vy\"]\n",
    "        print(\"Restored dataset from cache.\")\n",
    "    else:\n",
    "        data = tensorflow_datasets.load(dataset_name)\n",
    "        train_x, train_y = downconvert_tf_dataset(data[\"train\"], tokenizer, MAX_SEQ_LEN)\n",
    "        val_x, val_y = downconvert_tf_dataset(data[\"validation\"], tokenizer, MAX_SEQ_LEN)\n",
    "        dataset_cache.update({dataset_name: {\"tx\": train_x, \"ty\": train_y, \"vx\": val_x, \"vy\": val_y }})\n",
    "        print(\"Dataset %s train_sz=%i val_sz=%i\" % \\\n",
    "              (dataset_name, train_y.shape[0], val_y.shape[0]))\n",
    "    \n",
    "    # Create the head.\n",
    "    tensor = base_model_cls_head\n",
    "    for layer_units in dense_config[0:-1]:\n",
    "        tensor = Dense(units=layer_units, activation=\"relu\", name=\"%s_%i\" % (dataset_name, layer_units))(tensor)\n",
    "    tensor = Dense(units=dense_config[-1], activation=\"softmax\", name=\"final_%s\" % (dataset_name))(tensor)\n",
    "    \n",
    "    return train_x, train_y, val_x, val_y, tensor"
   ]
  },
  {
   "cell_type": "code",
   "execution_count": 5,
   "metadata": {
    "pycharm": {
     "is_executing": true,
     "name": "#%%\n"
    },
    "scrolled": true
   },
   "outputs": [
    {
     "data": {
      "text/html": [
       "\n",
       "                Logging results to <a href=\"https://wandb.com\" target=\"_blank\">Weights & Biases</a> <a href=\"https://docs.wandb.com/integrations/jupyter.html\" target=\"_blank\">(Documentation)</a>.<br/>\n",
       "                Project page: <a href=\"https://app.wandb.ai/neonbjb/nonint-transformers\" target=\"_blank\">https://app.wandb.ai/neonbjb/nonint-transformers</a><br/>\n",
       "                Run page: <a href=\"https://app.wandb.ai/neonbjb/nonint-transformers/runs/rfx36rdw\" target=\"_blank\">https://app.wandb.ai/neonbjb/nonint-transformers/runs/rfx36rdw</a><br/>\n",
       "            "
      ],
      "text/plain": [
       "<IPython.core.display.HTML object>"
      ]
     },
     "metadata": {},
     "output_type": "display_data"
    },
    {
     "name": "stderr",
     "output_type": "stream",
     "text": [
      "INFO:absl:Overwrite dataset info from restored data version.\n",
      "INFO:absl:Reusing dataset glue (C:\\Users\\jbetk\\tensorflow_datasets\\glue\\sst2\\0.0.2)\n",
      "INFO:absl:Constructing tf.data.Dataset for split None, from C:\\Users\\jbetk\\tensorflow_datasets\\glue\\sst2\\0.0.2\n"
     ]
    },
    {
     "name": "stdout",
     "output_type": "stream",
     "text": [
      "Dataset glue/sst2 train_sz=67349 val_sz=872\n",
      "Model: \"model\"\n",
      "__________________________________________________________________________________________________\n",
      "Layer (type)                    Output Shape         Param #     Connected to                     \n",
      "==================================================================================================\n",
      "input_ids (InputLayer)          [(None, 128)]        0                                            \n",
      "__________________________________________________________________________________________________\n",
      "attention_mask (InputLayer)     [(None, 128)]        0                                            \n",
      "__________________________________________________________________________________________________\n",
      "token_type_ids (InputLayer)     [(None, 128)]        0                                            \n",
      "__________________________________________________________________________________________________\n",
      "tf_bert_model (TFBertModel)     ((None, 128, 768), ( 108310272   input_ids[0][0]                  \n",
      "                                                                 attention_mask[0][0]             \n",
      "                                                                 token_type_ids[0][0]             \n",
      "__________________________________________________________________________________________________\n",
      "final_glue/sst2 (Dense)         (None, 2)            1538        tf_bert_model[0][1]              \n",
      "==================================================================================================\n",
      "Total params: 108,311,810\n",
      "Trainable params: 108,311,810\n",
      "Non-trainable params: 0\n",
      "__________________________________________________________________________________________________\n",
      "None\n",
      "Train on 67349 samples, validate on 872 samples\n",
      "Epoch 1/4\n",
      "67344/67349 [============================>.] - ETA: 0s - loss: 0.4567 - accuracy: 0.8478 ETA: 2s - loss: 0"
     ]
    },
    {
     "name": "stderr",
     "output_type": "stream",
     "text": [
      "wandb: ERROR Can't save model, h5py returned error: \n"
     ]
    },
    {
     "name": "stdout",
     "output_type": "stream",
     "text": [
      "67349/67349 [==============================] - 791s 12ms/sample - loss: 0.4567 - accuracy: 0.8478 - val_loss: 0.4309 - val_accuracy: 0.8727\n",
      "Epoch 2/4\n",
      "67349/67349 [==============================] - 776s 12ms/sample - loss: 0.4008 - accuracy: 0.9097 - val_loss: 0.4200 - val_accuracy: 0.8819\n",
      "Epoch 3/4\n",
      "67349/67349 [==============================] - 778s 12ms/sample - loss: 0.3829 - accuracy: 0.9280 - val_loss: 0.4067 - val_accuracy: 0.9025\n",
      "Epoch 4/4\n",
      "67349/67349 [==============================] - 785s 12ms/sample - loss: 0.3730 - accuracy: 0.9384 - val_loss: 0.4100 - val_accuracy: 0.8968\n"
     ]
    },
    {
     "data": {
      "text/html": [
       "\n",
       "                Logging results to <a href=\"https://wandb.com\" target=\"_blank\">Weights & Biases</a> <a href=\"https://docs.wandb.com/integrations/jupyter.html\" target=\"_blank\">(Documentation)</a>.<br/>\n",
       "                Project page: <a href=\"https://app.wandb.ai/neonbjb/nonint-transformers\" target=\"_blank\">https://app.wandb.ai/neonbjb/nonint-transformers</a><br/>\n",
       "                Run page: <a href=\"https://app.wandb.ai/neonbjb/nonint-transformers/runs/6wxa8sst\" target=\"_blank\">https://app.wandb.ai/neonbjb/nonint-transformers/runs/6wxa8sst</a><br/>\n",
       "            "
      ],
      "text/plain": [
       "<IPython.core.display.HTML object>"
      ]
     },
     "metadata": {},
     "output_type": "display_data"
    },
    {
     "name": "stdout",
     "output_type": "stream",
     "text": [
      "Restored dataset from cache.\n",
      "Model: \"model_1\"\n",
      "__________________________________________________________________________________________________\n",
      "Layer (type)                    Output Shape         Param #     Connected to                     \n",
      "==================================================================================================\n",
      "input_ids (InputLayer)          [(None, 128)]        0                                            \n",
      "__________________________________________________________________________________________________\n",
      "attention_mask (InputLayer)     [(None, 128)]        0                                            \n",
      "__________________________________________________________________________________________________\n",
      "token_type_ids (InputLayer)     [(None, 128)]        0                                            \n",
      "__________________________________________________________________________________________________\n",
      "tf_bert_model_1 (TFBertModel)   ((None, 128, 768), ( 108310272   input_ids[0][0]                  \n",
      "                                                                 attention_mask[0][0]             \n",
      "                                                                 token_type_ids[0][0]             \n",
      "__________________________________________________________________________________________________\n",
      "final_glue/sst2 (Dense)         (None, 2)            1538        tf_bert_model_1[0][1]            \n",
      "==================================================================================================\n",
      "Total params: 108,311,810\n",
      "Trainable params: 108,311,810\n",
      "Non-trainable params: 0\n",
      "__________________________________________________________________________________________________\n",
      "None\n",
      "Train on 67349 samples, validate on 872 samples\n",
      "Epoch 1/4\n",
      "67328/67349 [============================>.] - ETA: 0s - loss: 0.4497 - accuracy: 0.8540"
     ]
    },
    {
     "name": "stderr",
     "output_type": "stream",
     "text": [
      "wandb: ERROR Can't save model, h5py returned error: \n"
     ]
    },
    {
     "name": "stdout",
     "output_type": "stream",
     "text": [
      "67349/67349 [==============================] - 608s 9ms/sample - loss: 0.4498 - accuracy: 0.8539 - val_loss: 0.4159 - val_accuracy: 0.8922\n",
      "Epoch 2/4\n",
      "67349/67349 [==============================] - 562s 8ms/sample - loss: 0.3919 - accuracy: 0.9185 - val_loss: 0.4081 - val_accuracy: 0.8979\n",
      "Epoch 3/4\n",
      "67349/67349 [==============================] - 556s 8ms/sample - loss: 0.3749 - accuracy: 0.9366 - val_loss: 0.4004 - val_accuracy: 0.9106\n",
      "Epoch 4/4\n",
      "67349/67349 [==============================] - 556s 8ms/sample - loss: 0.3659 - accuracy: 0.9458 - val_loss: 0.4010 - val_accuracy: 0.9048\n"
     ]
    },
    {
     "data": {
      "text/html": [
       "\n",
       "                Logging results to <a href=\"https://wandb.com\" target=\"_blank\">Weights & Biases</a> <a href=\"https://docs.wandb.com/integrations/jupyter.html\" target=\"_blank\">(Documentation)</a>.<br/>\n",
       "                Project page: <a href=\"https://app.wandb.ai/neonbjb/nonint-transformers\" target=\"_blank\">https://app.wandb.ai/neonbjb/nonint-transformers</a><br/>\n",
       "                Run page: <a href=\"https://app.wandb.ai/neonbjb/nonint-transformers/runs/702y66h1\" target=\"_blank\">https://app.wandb.ai/neonbjb/nonint-transformers/runs/702y66h1</a><br/>\n",
       "            "
      ],
      "text/plain": [
       "<IPython.core.display.HTML object>"
      ]
     },
     "metadata": {},
     "output_type": "display_data"
    },
    {
     "name": "stdout",
     "output_type": "stream",
     "text": [
      "Restored dataset from cache.\n",
      "Model: \"model_2\"\n",
      "__________________________________________________________________________________________________\n",
      "Layer (type)                    Output Shape         Param #     Connected to                     \n",
      "==================================================================================================\n",
      "input_ids (InputLayer)          [(None, 128)]        0                                            \n",
      "__________________________________________________________________________________________________\n",
      "attention_mask (InputLayer)     [(None, 128)]        0                                            \n",
      "__________________________________________________________________________________________________\n",
      "token_type_ids (InputLayer)     [(None, 128)]        0                                            \n",
      "__________________________________________________________________________________________________\n",
      "tf_bert_model_2 (TFBertModel)   ((None, 128, 768), ( 108310272   input_ids[0][0]                  \n",
      "                                                                 attention_mask[0][0]             \n",
      "                                                                 token_type_ids[0][0]             \n",
      "__________________________________________________________________________________________________\n",
      "final_glue/sst2 (Dense)         (None, 2)            1538        tf_bert_model_2[0][1]            \n",
      "==================================================================================================\n",
      "Total params: 108,311,810\n",
      "Trainable params: 108,311,810\n",
      "Non-trainable params: 0\n",
      "__________________________________________________________________________________________________\n",
      "None\n",
      "Train on 67349 samples, validate on 872 samples\n",
      "Epoch 1/4\n",
      "67328/67349 [============================>.] - ETA: 0s - loss: 0.4620 - accuracy: 0.8436"
     ]
    },
    {
     "name": "stderr",
     "output_type": "stream",
     "text": [
      "wandb: ERROR Can't save model, h5py returned error: \n"
     ]
    },
    {
     "name": "stdout",
     "output_type": "stream",
     "text": [
      "67349/67349 [==============================] - 582s 9ms/sample - loss: 0.4620 - accuracy: 0.8436 - val_loss: 0.4295 - val_accuracy: 0.8819\n",
      "Epoch 2/4\n",
      "67349/67349 [==============================] - 564s 8ms/sample - loss: 0.4059 - accuracy: 0.9041 - val_loss: 0.4170 - val_accuracy: 0.8911\n",
      "Epoch 3/4\n",
      "67349/67349 [==============================] - 567s 8ms/sample - loss: 0.3887 - accuracy: 0.9225 - val_loss: 0.4127 - val_accuracy: 0.8945\n",
      "Epoch 4/4\n",
      "67349/67349 [==============================] - 568s 8ms/sample - loss: 0.3759 - accuracy: 0.9350 - val_loss: 0.4071 - val_accuracy: 0.9048\n"
     ]
    }
   ],
   "source": [
    "def fine_tune_task(dataset_id, optimizer, batch_sz=32, epochs=4):\n",
    "    # Re-load base model weights.\n",
    "    bert_base_model = TFBertModel.from_pretrained(\"bert-base-cased\")\n",
    "\n",
    "    inputs = [Input(shape=(128,), dtype='int32', name='input_ids'),\n",
    "              Input(shape=(128,), dtype='int32', name='attention_mask'), \n",
    "              Input(shape=(128,), dtype='int32', name='token_type_ids')]\n",
    "\n",
    "    # Fetch the CLS head of the BERT model; index 1.\n",
    "    cls_head = bert_base_model(inputs)[1]\n",
    "\n",
    "    # Fetch and format dataset and classification head.\n",
    "    train_x, train_y, val_x, val_y, tensor = \\\n",
    "        create_new_classification_head(dataset_id, cls_head, dense_config=[2])\n",
    "    model = keras.Model(inputs=inputs, outputs=tensor)\n",
    "    print(model.summary())\n",
    "\n",
    "    # Configure loss function and metrics.\n",
    "    if fp16:\n",
    "        tf.train.experimental.enable_mixed_precision_graph_rewrite(optimizer)\n",
    "    loss = tf.keras.losses.SparseCategoricalCrossentropy(from_logits=True)\n",
    "    metric = tf.keras.metrics.SparseCategoricalAccuracy('accuracy')\n",
    "\n",
    "    model.compile(optimizer=optimizer, loss=loss, metrics=[metric])\n",
    "    \n",
    "    # Train model.\n",
    "    history = model.fit(train_x, train_y, batch_size=batch_sz, epochs=epochs, \\\n",
    "                                          validation_data=(val_x, val_y),\\\n",
    "                                          callbacks=[WandbCallback(log_batch_frequency=int(1024/batch_sz))])\n",
    "    return model, history\n",
    "\n",
    "skipper=True\n",
    "for bsi in [16,32]:\n",
    "    for lri in [1e-5, 5e-6]:\n",
    "        if skipper:\n",
    "            skipper=False\n",
    "            continue\n",
    "        dataset = \"glue/sst2\"\n",
    "        name = \"sst2-%i-%f\" % (bsi, lri)\n",
    "        wandb.init(project=\"nonint-transformers\",\\\n",
    "                   name=name,\\\n",
    "                   config={\"dataset\": \"glue/sst2\", \"learning_rate\": lri, \"epsilon\": 1e-08, \"batch_sz\": bsi})\n",
    "        optimizer = tf.keras.optimizers.Adam(learning_rate=lri, epsilon=1e-08)\n",
    "        # Todo - configure optimizer in mixed precision mode.\n",
    "        model, history = fine_tune_task(\"glue/sst2\", optimizer, bsi)"
   ]
  },
  {
   "cell_type": "code",
   "execution_count": null,
   "metadata": {
    "pycharm": {
     "is_executing": true
    }
   },
   "outputs": [],
   "source": [
    "#phrase = \"I was disappointed to see the credits roll, the film really had me.\"\n",
    "phrase = \"A human there was she walked it\"\n",
    "\n",
    "def pad_zero(inputs, seq_len):\n",
    "    for k in inputs: \n",
    "        output = np.zeros(seq_len+1, dtype='int32')\n",
    "        output[:len(inputs[k])] = np.asarray(inputs[k])\n",
    "        inputs[k] = output\n",
    "    return inputs\n",
    " \n",
    "phrase_encoded = pad_zero(tokenizer.encode_plus(phrase, add_special_tokens=True, max_length=128), 128)\n",
    "\n",
    "phrase_encoded_formatted = \\\n",
    "    [np.resize(phrase_encoded['input_ids'], (1,-1)),\n",
    "    np.resize(phrase_encoded['token_type_ids'], (1,-1)),\n",
    "    np.resize(phrase_encoded['attention_mask'], (1,-1)),\n",
    "    np.asarray([[1,0]], dtype='float32')]\n",
    "print(sst_bert_model.predict(phrase_encoded_formatted))"
   ]
  },
  {
   "cell_type": "code",
   "execution_count": null,
   "metadata": {
    "pycharm": {
     "is_executing": true
    }
   },
   "outputs": [],
   "source": []
  }
 ],
 "metadata": {
  "kernelspec": {
   "display_name": "Python 3",
   "language": "python",
   "name": "python3"
  },
  "language_info": {
   "codemirror_mode": {
    "name": "ipython",
    "version": 3
   },
   "file_extension": ".py",
   "mimetype": "text/x-python",
   "name": "python",
   "nbconvert_exporter": "python",
   "pygments_lexer": "ipython3",
   "version": "3.6.8"
  },
  "pycharm": {
   "stem_cell": {
    "cell_type": "raw",
    "metadata": {
     "collapsed": false
    },
    "source": []
   }
  }
 },
 "nbformat": 4,
 "nbformat_minor": 1
}
