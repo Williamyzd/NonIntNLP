{
 "cells": [
  {
   "cell_type": "code",
   "execution_count": 1,
   "metadata": {
    "pycharm": {
     "is_executing": false
    }
   },
   "outputs": [],
   "source": [
    "import gc\n",
    "import tensorflow as tf\n",
    "import tensorflow_datasets\n",
    "import numpy as np\n",
    "import tensorflow.keras as keras\n",
    "import orjson\n",
    "import tensorflow.keras.backend as K\n",
    "from tensorflow.keras.layers import Dense, Input\n",
    "from utils import downconvert_tf_dataset\n",
    "import wandb\n",
    "from wandb.keras import WandbCallback\n",
    "\n",
    "from transformers import (TFBertModel, TFDistilBertModel,\n",
    "                          BertTokenizer, DistilBertTokenizer,\n",
    "                          glue_convert_examples_to_features)"
   ]
  },
  {
   "cell_type": "code",
   "execution_count": 2,
   "metadata": {
    "pycharm": {
     "is_executing": false,
     "name": "#%%\n"
    }
   },
   "outputs": [],
   "source": [
    "# Constants\n",
    "BATCH_SIZE = 32\n",
    "MAX_SEQ_LEN = 128\n",
    "EPOCHS = 3\n",
    "\n",
    "# FP16 settings\n",
    "fp16 = True\n",
    "if fp16:\n",
    "    tf.config.optimizer.set_experimental_options({\"auto_mixed_precision\": True})"
   ]
  },
  {
   "cell_type": "code",
   "execution_count": 3,
   "metadata": {
    "pycharm": {
     "is_executing": false,
     "name": "#%%\n"
    }
   },
   "outputs": [],
   "source": [
    "# Fetch pre-trained models\n",
    "#tokenizer = DistilBertTokenizer.from_pretrained(\"distilbert-base-uncased\")\n",
    "tokenizer = BertTokenizer.from_pretrained(\"bert-base-cased\")"
   ]
  },
  {
   "cell_type": "code",
   "execution_count": 4,
   "metadata": {
    "pycharm": {
     "is_executing": false
    }
   },
   "outputs": [],
   "source": [
    "def load_json_dataset(filename):\n",
    "    return orjson.loads(open(filename, \"rb\").read())\n",
    "\n",
    "def process_cls_row(sentence, tok, pad_token, max_seq_len, _out_xs):\n",
    "    input = tok.encode_plus(sentence, add_special_tokens=True, max_length=max_seq_len,)\n",
    "    input_ids, token_type_ids = input[\"input_ids\"], input[\"token_type_ids\"]\n",
    "    attention_mask = [0] * len(input_ids)\n",
    "\n",
    "    # Pad strings to exactly max_seq_len\n",
    "    padding_length = max_seq_len - len(input_ids)\n",
    "    input_ids = input_ids + ([pad_token] * padding_length)\n",
    "    attention_mask = attention_mask + ([0] * padding_length)\n",
    "    token_type_ids = token_type_ids + ([0] * padding_length)\n",
    "\n",
    "    # Double-check results.\n",
    "    assert len(input_ids) == max_seq_len, \"Error with input length {} vs {}\".format(len(input_ids), max_length)\n",
    "    assert len(attention_mask) == max_seq_len, \"Error with input length {} vs {}\".format(\n",
    "        len(attention_mask), max_seq_len\n",
    "    )\n",
    "    assert len(token_type_ids) == max_seq_len, \"Error with input length {} vs {}\".format(\n",
    "        len(token_type_ids), max_seq_len\n",
    "    )\n",
    "\n",
    "    # Push resultants to the input lists.\n",
    "    _out_xs[0].append(np.asarray(input_ids))\n",
    "    _out_xs[1].append(np.asarray(attention_mask))\n",
    "    _out_xs[2].append(np.asarray(token_type_ids))\n",
    "\n",
    "def downconvert_tf_nlp_cls_dataset(dataset, tok, pad_token=0, max_seq_len=128):\n",
    "    inputs = [[],[],[]]\n",
    "    outputs = []\n",
    "    for m in dataset:\n",
    "        # inputs gets modified in-place by process_cls_row.\n",
    "        process_cls_row(m[\"sentence\"], tok, pad_token, max_seq_len, inputs)\n",
    "        outputs.append(m['label'])\n",
    "    return [np.asarray(i) for i in inputs], np.asarray(outputs)"
   ]
  },
  {
   "cell_type": "code",
   "execution_count": 5,
   "metadata": {
    "pycharm": {
     "is_executing": false
    }
   },
   "outputs": [],
   "source": [
    "dataset_cache = {}\n",
    "\n",
    "def create_new_classification_head(train_dataset_name, val_dataset_name, base_model_cls_head, dense_config=[256,2]):\n",
    "    # Fetch the data.\n",
    "    global dataset_cache\n",
    "    if(train_dataset_name in dataset_cache.keys()):\n",
    "        train_x = dataset_cache[train_dataset_name][\"tx\"]\n",
    "        train_y = dataset_cache[train_dataset_name][\"ty\"]\n",
    "        val_x = dataset_cache[train_dataset_name][\"vx\"]\n",
    "        val_y = dataset_cache[train_dataset_name][\"vy\"]\n",
    "        print(\"Restored dataset from cache.\")\n",
    "    else:\n",
    "        train_data = load_json_dataset(train_dataset_name)\n",
    "        train_x, train_y = downconvert_tf_nlp_cls_dataset(train_data, tokenizer, MAX_SEQ_LEN)\n",
    "        val_data = load_json_dataset(val_dataset_name)\n",
    "        val_x, val_y = downconvert_tf_nlp_cls_dataset(val_data, tokenizer, MAX_SEQ_LEN)\n",
    "        dataset_cache.update({train_dataset_name: {\"tx\": train_x, \"ty\": train_y, \"vx\": val_x, \"vy\": val_y }})\n",
    "        print(\"Dataset %s train_sz=%i val_sz=%i\" % \\\n",
    "              (train_dataset_name, train_y.shape[0], val_y.shape[0]))\n",
    "    \n",
    "    # Create the head.\n",
    "    tensor = base_model_cls_head\n",
    "    for layer_units in dense_config[0:-1]:\n",
    "        tensor = Dense(units=layer_units, activation=\"relu\")(tensor)\n",
    "    tensor = Dense(units=dense_config[-1], activation=\"softmax\")(tensor)\n",
    "    \n",
    "    return train_x, train_y, val_x, val_y, tensor"
   ]
  },
  {
   "cell_type": "code",
   "execution_count": null,
   "metadata": {
    "pycharm": {
     "is_executing": false,
     "name": "#%%\n"
    },
    "scrolled": true
   },
   "outputs": [
    {
     "data": {
      "text/html": [
       "\n",
       "                Logging results to <a href=\"https://wandb.com\" target=\"_blank\">Weights & Biases</a> <a href=\"https://docs.wandb.com/integrations/jupyter.html\" target=\"_blank\">(Documentation)</a>.<br/>\n",
       "                Project page: <a href=\"https://app.wandb.ai/neonbjb/nonint-transformers\" target=\"_blank\">https://app.wandb.ai/neonbjb/nonint-transformers</a><br/>\n",
       "                Run page: <a href=\"https://app.wandb.ai/neonbjb/nonint-transformers/runs/d71bjui6\" target=\"_blank\">https://app.wandb.ai/neonbjb/nonint-transformers/runs/d71bjui6</a><br/>\n",
       "            "
      ],
      "text/plain": [
       "<IPython.core.display.HTML object>"
      ]
     },
     "metadata": {},
     "output_type": "display_data"
    },
    {
     "name": "stderr",
     "output_type": "stream",
     "text": [
      "Failed to query for notebook name, you can set it manually with the WANDB_NOTEBOOK_NAME environment variable\n"
     ]
    },
    {
     "name": "stdout",
     "output_type": "stream",
     "text": [
      "Dataset C:/Users/jbetk/Documents/data/ml/sentiment_analysis/amazon_reviews/processed.json train_sz=470295 val_sz=500\n",
      "Model: \"model\"\n",
      "__________________________________________________________________________________________________\n",
      "Layer (type)                    Output Shape         Param #     Connected to                     \n",
      "==================================================================================================\n",
      "input_ids (InputLayer)          [(None, 128)]        0                                            \n",
      "__________________________________________________________________________________________________\n",
      "attention_mask (InputLayer)     [(None, 128)]        0                                            \n",
      "__________________________________________________________________________________________________\n",
      "token_type_ids (InputLayer)     [(None, 128)]        0                                            \n",
      "__________________________________________________________________________________________________\n",
      "tf_bert_model (TFBertModel)     ((None, 128, 768), ( 108310272   input_ids[0][0]                  \n",
      "                                                                 attention_mask[0][0]             \n",
      "                                                                 token_type_ids[0][0]             \n",
      "__________________________________________________________________________________________________\n",
      "flatten (Flatten)               (None, 98304)        0           tf_bert_model[0][0]              \n",
      "__________________________________________________________________________________________________\n",
      "dense (Dense)                   (None, 6)            589830      flatten[0][0]                    \n",
      "==================================================================================================\n",
      "Total params: 108,900,102\n",
      "Trainable params: 108,900,102\n",
      "Non-trainable params: 0\n",
      "__________________________________________________________________________________________________\n",
      "None\n",
      "Train on 470295 samples, validate on 500 samples\n",
      "Epoch 1/9\n",
      "WARNING:tensorflow:Gradients do not exist for variables ['tf_bert_model/bert/pooler/dense/kernel:0', 'tf_bert_model/bert/pooler/dense/bias:0'] when minimizing the loss.\n",
      "WARNING:tensorflow:Gradients do not exist for variables ['tf_bert_model/bert/pooler/dense/kernel:0', 'tf_bert_model/bert/pooler/dense/bias:0'] when minimizing the loss.\n",
      "470272/470295 [============================>.] - ETA: 0s - loss: 1.5253 - accuracy: 0.5062"
     ]
    },
    {
     "name": "stderr",
     "output_type": "stream",
     "text": [
      "wandb: ERROR Can't save model, h5py returned error: \n"
     ]
    },
    {
     "name": "stdout",
     "output_type": "stream",
     "text": [
      "470295/470295 [==============================] - 3925s 8ms/sample - loss: 1.5253 - accuracy: 0.5062 - val_loss: 1.4795 - val_accuracy: 0.5620\n",
      "Epoch 2/9\n",
      "470295/470295 [==============================] - 3916s 8ms/sample - loss: 1.4658 - accuracy: 0.5704 - val_loss: 1.4924 - val_accuracy: 0.5300\n",
      "Epoch 3/9\n",
      "470295/470295 [==============================] - 3916s 8ms/sample - loss: 1.4274 - accuracy: 0.6121 - val_loss: 1.4831 - val_accuracy: 0.5480\n",
      "Epoch 4/9\n",
      "470295/470295 [==============================] - 3919s 8ms/sample - loss: 1.3923 - accuracy: 0.6508 - val_loss: 1.4742 - val_accuracy: 0.5620\n",
      "Epoch 5/9\n",
      "470295/470295 [==============================] - 4019s 9ms/sample - loss: 1.3596 - accuracy: 0.6869 - val_loss: 1.4688 - val_accuracy: 0.5700\n",
      "Epoch 6/9\n",
      "470295/470295 [==============================] - 3933s 8ms/sample - loss: 1.3303 - accuracy: 0.7184 - val_loss: 1.4832 - val_accuracy: 0.5440\n",
      "Epoch 7/9\n",
      "470295/470295 [==============================] - 3922s 8ms/sample - loss: 1.3040 - accuracy: 0.7459 - val_loss: 1.4694 - val_accuracy: 0.5680\n",
      "Epoch 8/9\n",
      "256896/470295 [===============>..............] - ETA: 29:51 - loss: 1.2802 - accuracy: 0.7709"
     ]
    }
   ],
   "source": [
    "def fine_tune_task(train_dataset_path, val_dataset_path, optimizer, batch_sz=32, epochs=4):\n",
    "    # Re-load base model weights.\n",
    "    #bert_base_model = TFDistilBertModel.from_pretrained(\"distilbert-base-uncased\")\n",
    "    bert_base_model = TFBertModel.from_pretrained(\"bert-base-cased\")\n",
    "\n",
    "    inputs = [Input(shape=(128,), dtype='int32', name='input_ids'),\n",
    "              Input(shape=(128,), dtype='int32', name='attention_mask'), \n",
    "              Input(shape=(128,), dtype='int32', name='token_type_ids'),\n",
    "             ]\n",
    "\n",
    "    # Fetch the CLS head of the BERT model; index 1.\n",
    "    #cls_head = bert_base_model(inputs)[1]\n",
    "    \n",
    "    # Classification head for DistilBERT is the flattened hidden state.\n",
    "    cls_head = keras.layers.Flatten()(bert_base_model(inputs)[0])\n",
    "\n",
    "    # Fetch and format dataset and classification head.\n",
    "    train_x, train_y, val_x, val_y, tensor = \\\n",
    "        create_new_classification_head(train_dataset_path, val_dataset_path, cls_head, dense_config=[6])\n",
    "    model = keras.Model(inputs=inputs, outputs=tensor)\n",
    "    print(model.summary())\n",
    "\n",
    "    # Configure loss function and metrics.\n",
    "    if fp16:\n",
    "        tf.train.experimental.enable_mixed_precision_graph_rewrite(optimizer)\n",
    "    loss = tf.keras.losses.SparseCategoricalCrossentropy(from_logits=True)\n",
    "    metric = tf.keras.metrics.SparseCategoricalAccuracy('accuracy')\n",
    "\n",
    "    model.compile(optimizer=optimizer, loss=loss, metrics=[metric])\n",
    "    \n",
    "    # Train model.\n",
    "    history = model.fit(train_x, train_y, batch_size=batch_sz, epochs=epochs, \\\n",
    "                                          validation_data=(val_x, val_y),\\\n",
    "                                          callbacks=[WandbCallback(log_batch_frequency=int(1024/batch_sz))])\n",
    "    return model, history\n",
    "\n",
    "dataset = \"C:/Users/jbetk/Documents/data/ml/sentiment_analysis/amazon_reviews/processed.json\"\n",
    "val = \"C:/Users/jbetk/Documents/data/ml/sentiment_analysis/amazon_reviews/validation.json\"\n",
    "name = \"amazon_reviews_sentiment_first_pass\"\n",
    "wandb.init(project=\"nonint-transformers\",\\\n",
    "           name=name,\\\n",
    "           config={\"dataset\": dataset, \"learning_rate\": 1e-5, \"epsilon\": 1e-08, \"batch_sz\": 32})\n",
    "optimizer = tf.keras.optimizers.Adam(learning_rate=1e-5, epsilon=1e-08)\n",
    "# Todo - configure optimizer in mixed precision mode.\n",
    "model, history = fine_tune_task(dataset, val, optimizer, 32, epochs=9)"
   ]
  },
  {
   "cell_type": "code",
   "execution_count": null,
   "metadata": {
    "pycharm": {
     "is_executing": false,
     "name": "#%%\n"
    }
   },
   "outputs": [],
   "source": [
    "phrase = \"I was walking to the park on a sunny day.\"\n",
    "\n",
    "def pad_zero(inputs, seq_len):\n",
    "    for k in inputs: \n",
    "        output = np.zeros(seq_len+1, dtype='int32')\n",
    "        output[:len(inputs[k])] = np.asarray(inputs[k])\n",
    "        inputs[k] = output\n",
    "    return inputs\n",
    " \n",
    "phrase_encoded = pad_zero(tokenizer.encode_plus(phrase, add_special_tokens=True, max_length=128), 128)\n",
    "\n",
    "phrase_encoded_formatted = \\\n",
    "    [np.resize(phrase_encoded['input_ids'], (1,-1)),\n",
    "    np.resize(phrase_encoded['token_type_ids'], (1,-1)),\n",
    "    np.resize(phrase_encoded['attention_mask'], (1,-1))]\n",
    "print(model.predict(phrase_encoded_formatted))"
   ]
  },
  {
   "cell_type": "code",
   "execution_count": null,
   "metadata": {
    "pycharm": {
     "is_executing": false
    }
   },
   "outputs": [],
   "source": []
  },
  {
   "cell_type": "code",
   "execution_count": null,
   "metadata": {
    "pycharm": {
     "is_executing": true
    }
   },
   "outputs": [],
   "source": []
  }
 ],
 "metadata": {
  "kernelspec": {
   "display_name": "Python 3",
   "language": "python",
   "name": "python3"
  },
  "language_info": {
   "codemirror_mode": {
    "name": "ipython",
    "version": 3
   },
   "file_extension": ".py",
   "mimetype": "text/x-python",
   "name": "python",
   "nbconvert_exporter": "python",
   "pygments_lexer": "ipython3",
   "version": "3.6.8"
  },
  "pycharm": {
   "stem_cell": {
    "cell_type": "raw",
    "metadata": {
     "collapsed": false
    },
    "source": []
   }
  }
 },
 "nbformat": 4,
 "nbformat_minor": 1
}
