{
 "cells": [
  {
   "cell_type": "code",
   "execution_count": 2,
   "metadata": {
    "pycharm": {
     "is_executing": false
    }
   },
   "outputs": [],
   "source": [
    "# This notebook processes Amazon reviews derived from the datasets available here:\n",
    "# http://jmcauley.ucsd.edu/data/amazon/\n",
    "\n",
    "import orjson"
   ]
  },
  {
   "cell_type": "code",
   "execution_count": 3,
   "metadata": {
    "pycharm": {
     "is_executing": false
    }
   },
   "outputs": [],
   "source": [
    "# This dataset consists of a list of new-line separated entries. Entries are maps with the following keys:\n",
    "#  reviewerID\n",
    "#  asin\n",
    "#  reviewerName\n",
    "#  helpful (list of 2 numbers)\n",
    "#  reviewText\n",
    "#  overall (score as a float. always [1,2,3,4,5])\n",
    "#  summary\n",
    "#  unixReviewTime\n",
    "#  reviewTime\n",
    "\n",
    "# Converts the given entry with the above format into a new map with the following keys:\n",
    "#  sentence (string)\n",
    "#  label (integer)\n",
    "def process_entry(entry, min_helpful=0, max_words=0):\n",
    "    if not 'helpful' in entry:\n",
    "        return None\n",
    "    if entry['helpful'][0] < min_helpful:\n",
    "        return None\n",
    "    if entry['reviewText'].count(' ')+1 > max_words:\n",
    "        return None\n",
    "    return {'sentence': entry['reviewText'],\n",
    "            'label': int(entry['overall']),\n",
    "            }\n",
    "\n",
    "\n",
    "\n",
    "def process_file(filepath, result):\n",
    "    with open(filepath) as file:\n",
    "        line = file.readline()\n",
    "        result = [[], [], [], [], []]\n",
    "        while line:\n",
    "            pent = process_entry(orjson.loads(line), min_helpful=5, max_words=300)\n",
    "            if pent:\n",
    "                result[pent['label']-1].append(pent)\n",
    "            line = file.readline()\n",
    "\n",
    "#def balance_reviews(review_list):\n"
   ]
  },
  {
   "cell_type": "code",
   "execution_count": 7,
   "metadata": {
    "pycharm": {
     "is_executing": true
    }
   },
   "outputs": [
    {
     "name": "stdout",
     "output_type": "stream",
     "text": [
      "Processing file Books_5.json\n",
      "Processing file CDs_and_Vinyl_5.json\n",
      "Processing file Clothing_Shoes_and_Jewelry_5.json\n",
      "Processing file Digital_Music_5.json\n",
      "Processing file Electronics_5.json\n",
      "Processing file Health_and_Personal_Care_5.json\n",
      "Processing file Home_and_Kitchen_5.json\n",
      "Processing file processed.json\n",
      "Processing file validation.json\n",
      "Processing file Video_Games_5.json\n"
     ]
    }
   ],
   "source": [
    "import random\n",
    "import glob, os\n",
    "\n",
    "# Fetch the reviews.\n",
    "folder = \"C:/Users/jbetk/Documents/data/ml/sentiment_analysis/amazon_reviews/\"\n",
    "os.chdir(folder)\n",
    "reviews = [[], [], [], [], []]\n",
    "for file in glob.glob(\"*.json\"):\n",
    "    print(\"Processing file \" + file)\n",
    "    process_file(file, reviews)\n",
    "\n",
    "# Normalize the actual ratings values so there are equal training samples for each value.\n",
    "rating_counts = [0] * 5\n",
    "for (i, rl) in enumerate(reviews):\n",
    "    rating_counts[i] = len(rl)\n",
    "\n",
    "min_rating_count = min(rating_counts)\n",
    "balanced_reviews = []\n",
    "validation_reviews = []\n",
    "for rl in reviews:\n",
    "    validation_reviews.extend(rl[0:100])\n",
    "    balanced_reviews.extend(random.choices(rl[100:], k=min_rating_count-100))\n",
    "    \n",
    "# Shuffle the reviews\n",
    "random.shuffle(balanced_reviews)"
   ]
  },
  {
   "cell_type": "code",
   "execution_count": 8,
   "metadata": {},
   "outputs": [
    {
     "name": "stdout",
     "output_type": "stream",
     "text": [
      "94159\n"
     ]
    }
   ],
   "source": [
    "print(min_rating_count)"
   ]
  },
  {
   "cell_type": "code",
   "execution_count": null,
   "metadata": {
    "pycharm": {
     "is_executing": true,
     "name": "#%%\n"
    }
   },
   "outputs": [],
   "source": [
    "with open(folder + \"processed.json\", \"wb\") as output_file:\n",
    "    output_file.write(orjson.dumps(balanced_reviews))\n",
    "    output_file.close()\n",
    "    \n",
    "with open(folder + \"validation.json\", \"wb\") as output_file:\n",
    "    output_file.write(orjson.dumps(validation_reviews))\n",
    "    output_file.close()\n"
   ]
  },
  {
   "cell_type": "code",
   "execution_count": null,
   "metadata": {
    "pycharm": {
     "is_executing": true,
     "name": "#%%\n"
    }
   },
   "outputs": [],
   "source": [
    "random.choices(reviews[0], k=10)\n"
   ]
  }
 ],
 "metadata": {
  "kernelspec": {
   "display_name": "Python 3",
   "language": "python",
   "name": "python3"
  },
  "language_info": {
   "codemirror_mode": {
    "name": "ipython",
    "version": 3
   },
   "file_extension": ".py",
   "mimetype": "text/x-python",
   "name": "python",
   "nbconvert_exporter": "python",
   "pygments_lexer": "ipython3",
   "version": "3.6.8"
  },
  "pycharm": {
   "stem_cell": {
    "cell_type": "raw",
    "source": [],
    "metadata": {
     "collapsed": false
    }
   }
  }
 },
 "nbformat": 4,
 "nbformat_minor": 2
}